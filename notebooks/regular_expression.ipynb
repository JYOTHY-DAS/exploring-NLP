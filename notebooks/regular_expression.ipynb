{
 "cells": [
  {
   "cell_type": "markdown",
   "metadata": {},
   "source": [
    "# Extracting phone numbers"
   ]
  },
  {
   "cell_type": "code",
   "execution_count": 24,
   "metadata": {},
   "outputs": [],
   "source": [
    "import re"
   ]
  },
  {
   "cell_type": "code",
   "execution_count": 29,
   "metadata": {},
   "outputs": [
    {
     "name": "stdout",
     "output_type": "stream",
     "text": [
      "['8304561235', '(097)-543-3675']\n"
     ]
    },
    {
     "name": "stderr",
     "output_type": "stream",
     "text": [
      "<>:2: SyntaxWarning: invalid escape sequence '\\('\n",
      "<>:2: SyntaxWarning: invalid escape sequence '\\('\n",
      "C:\\Users\\Jyothy\\AppData\\Local\\Temp\\ipykernel_9960\\3559650380.py:2: SyntaxWarning: invalid escape sequence '\\('\n",
      "  pattern_phone = '\\(\\d{3}\\)-\\d{3}-\\d{4}|\\d{10}'\n"
     ]
    }
   ],
   "source": [
    "text1 =''' A's phone number is 8304561235. His office number is (097)-543-3675'''\n",
    "pattern_phone = '\\(\\d{3}\\)-\\d{3}-\\d{4}|\\d{10}'\n",
    "matches= re.findall(pattern_phone,text1)\n",
    "print(matches)"
   ]
  },
  {
   "cell_type": "markdown",
   "metadata": {},
   "source": [
    "# Extracting financial periods from a company's financial report."
   ]
  },
  {
   "cell_type": "code",
   "execution_count": 30,
   "metadata": {},
   "outputs": [
    {
     "name": "stderr",
     "output_type": "stream",
     "text": [
      "<>:2: SyntaxWarning: invalid escape sequence '\\d'\n",
      "<>:2: SyntaxWarning: invalid escape sequence '\\d'\n",
      "C:\\Users\\Jyothy\\AppData\\Local\\Temp\\ipykernel_9960\\2791087834.py:2: SyntaxWarning: invalid escape sequence '\\d'\n",
      "  pattern_year = 'FY\\d{4} Q[1-4]'\n"
     ]
    },
    {
     "data": {
      "text/plain": [
       "['FY2021 Q1', 'fy2020 Q4']"
      ]
     },
     "execution_count": 30,
     "metadata": {},
     "output_type": "execute_result"
    }
   ],
   "source": [
    "text2 = 'The gross cost of operating lease vehicles in FY2021 Q1 was $4.85 billion. In the previous quarter i.e fy2020 Q4 it was $3 billion.'\n",
    "pattern_year = 'FY\\d{4} Q[1-4]'\n",
    "matches = re.findall(pattern_year,text2, flags=re.IGNORECASE) # Match both capital letters and small letters\n",
    "matches"
   ]
  },
  {
   "cell_type": "markdown",
   "metadata": {},
   "source": [
    "# Extracting gross cost from a company's financial report."
   ]
  },
  {
   "cell_type": "code",
   "execution_count": 31,
   "metadata": {},
   "outputs": [
    {
     "name": "stderr",
     "output_type": "stream",
     "text": [
      "<>:1: SyntaxWarning: invalid escape sequence '\\$'\n",
      "<>:1: SyntaxWarning: invalid escape sequence '\\$'\n",
      "C:\\Users\\Jyothy\\AppData\\Local\\Temp\\ipykernel_9960\\2062232544.py:1: SyntaxWarning: invalid escape sequence '\\$'\n",
      "  pattern_cost = '\\$([\\d\\.]+)' # Without bracket, output will show '$' symbol.\n"
     ]
    },
    {
     "data": {
      "text/plain": [
       "['4.85', '3']"
      ]
     },
     "execution_count": 31,
     "metadata": {},
     "output_type": "execute_result"
    }
   ],
   "source": [
    "pattern_cost = '\\$([\\d\\.]+)' # Without bracket, output will show '$' symbol.\n",
    "matches = re.findall(pattern_cost,text2)\n",
    "matches"
   ]
  },
  {
   "cell_type": "markdown",
   "metadata": {},
   "source": [
    "# Retrieve personal information"
   ]
  },
  {
   "cell_type": "code",
   "execution_count": 33,
   "metadata": {},
   "outputs": [],
   "source": [
    "text3 ='''Elon Reeve Musk (/ˈiːlɒn mʌsk/; born June 28, 1971) is a businessman known for his key roles\n",
    "in Tesla, Inc., SpaceX, and X, formerly Twitter (which he has owned since 2022). Since 2025, he has \n",
    "been a senior advisor to President Donald Trump and head of the Department of Government Efficiency DOGE).\n",
    "Musk is the wealthiest person in the world; as of February 2025, Forbes estimates his net worth to be US$384 billion.\n",
    "Musk was born to an affluent South African family in Pretoria before immigrating to Canada, acquiring\n",
    "Canadian citizenship via his mother. He moved to California in 1995 to attend Stanford University, and with\n",
    "his brother Kimbal co-founded the software company Zip2, which was acquired by Compaq in 1999. That same year,\n",
    "Musk co-founded X.com, a direct bank, that later formed PayPal. In 2002, Musk acquired U.S. citizenship, and\n",
    "eBay acquired PayPal. Using the money he made from the sale, Musk founded SpaceX, a spaceflight services company,\n",
    "in 2002. In 2004, Musk was an early investor in electric vehicle manufacturer Tesla and became its chairman and\n",
    "later CEO. In 2018, the U.S. Securities and Exchange Commission (SEC) sued Musk for fraud, alleging he falsely\n",
    "announced that he had secured funding for a private takeover of Tesla; he stepped down as chairman and paid a\n",
    "fine. Musk was named Time magazine's Person of the Year in 2021. In 2022, he acquired Twitter, and rebranded\n",
    "the service as X the following year. In January 2025, he was appointed head of Trump's newly created DOGE. His\n",
    "political activities and views have made him a polarizing figure. He has been criticized for making unscientific\n",
    "and misleading statements, including COVID-19 misinformation, affirming antisemitic and transphobic comments, and\n",
    "promoting conspiracy theories. His acquisition of Twitter was controversial due to a subsequent increase in hate\n",
    "speech and the spread of misinformation on the service. Musk has engaged in political activities in several \n",
    "countries, including as a vocal and financial supporter of U.S. president Donald Trump since 2024. He was the\n",
    "largest donor in the 2024 presidential election, and is a supporter of global far-right activists, causes, \n",
    "politicians, and political parties.'''"
   ]
  },
  {
   "cell_type": "code",
   "execution_count": 53,
   "metadata": {},
   "outputs": [],
   "source": [
    "def get_pattern_match(pattern, text):\n",
    "    match = re.search(pattern, text)\n",
    "    return match.group(1) if match else None"
   ]
  },
  {
   "cell_type": "code",
   "execution_count": 54,
   "metadata": {},
   "outputs": [],
   "source": [
    "def get_personal_info(text):\n",
    "    age = get_pattern_match(r'age (\\d+)', text)  # This won't match anything in text3\n",
    "    full_name = get_pattern_match(r'([A-Z][a-z]+(?: [A-Z][a-z]+)*)', text)  # Extract name\n",
    "    birth_date = get_pattern_match(r'born (\\w+ \\d{1,2}, \\d{4})', text)  # Extract date\n",
    "    birth_place = None  # No birth place information is present in text3\n",
    "\n",
    "    return {\n",
    "        'age': int(age) if age else None,  # Handle None case\n",
    "        'name': full_name.strip() if full_name else None,\n",
    "        'birth_date': birth_date.strip() if birth_date else None,\n",
    "        'birth_place': birth_place\n",
    "    }"
   ]
  },
  {
   "cell_type": "code",
   "execution_count": 55,
   "metadata": {},
   "outputs": [
    {
     "data": {
      "text/plain": [
       "{'age': None,\n",
       " 'name': 'Elon Reeve Musk',\n",
       " 'birth_date': 'June 28, 1971',\n",
       " 'birth_place': None}"
      ]
     },
     "execution_count": 55,
     "metadata": {},
     "output_type": "execute_result"
    }
   ],
   "source": [
    "get_personal_info(text3)"
   ]
  },
  {
   "cell_type": "code",
   "execution_count": null,
   "metadata": {},
   "outputs": [],
   "source": []
  },
  {
   "cell_type": "code",
   "execution_count": null,
   "metadata": {},
   "outputs": [],
   "source": []
  }
 ],
 "metadata": {
  "kernelspec": {
   "display_name": "Python 3",
   "language": "python",
   "name": "python3"
  },
  "language_info": {
   "codemirror_mode": {
    "name": "ipython",
    "version": 3
   },
   "file_extension": ".py",
   "mimetype": "text/x-python",
   "name": "python",
   "nbconvert_exporter": "python",
   "pygments_lexer": "ipython3",
   "version": "3.12.6"
  }
 },
 "nbformat": 4,
 "nbformat_minor": 2
}
